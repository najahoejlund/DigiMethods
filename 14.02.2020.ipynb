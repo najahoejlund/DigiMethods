{
 "cells": [
  {
   "cell_type": "code",
   "execution_count": 4,
   "metadata": {},
   "outputs": [
    {
     "name": "stdout",
     "output_type": "stream",
     "text": [
      "[1, 2, 5, 9, 12]\n"
     ]
    },
    {
     "data": {
      "text/plain": [
       "2"
      ]
     },
     "execution_count": 4,
     "metadata": {},
     "output_type": "execute_result"
    }
   ],
   "source": [
    "#lærer at lave lister \n",
    "\n",
    "my_list = [1,2,5,9]\n",
    "my_list.append(12)\n",
    "print(my_list)\n",
    "\n",
    "#kommando til at få vist en bestemt del af listen. Den starter fra 0\n",
    "my_list[1]"
   ]
  },
  {
   "cell_type": "code",
   "execution_count": 6,
   "metadata": {},
   "outputs": [
    {
     "data": {
      "text/plain": [
       "'of'"
      ]
     },
     "execution_count": 6,
     "metadata": {},
     "output_type": "execute_result"
    }
   ],
   "source": [
    "my_list2 = [\"this\", \"is\", \"a\", \"list\", \"of\", \"strings\"]\n",
    "\n",
    "my_list2[-2]"
   ]
  },
  {
   "cell_type": "code",
   "execution_count": null,
   "metadata": {},
   "outputs": [],
   "source": [
    "#empty list \n",
    "\n",
    "my_list3 = []\n",
    "\n",
    "#det er en tom liste "
   ]
  },
  {
   "cell_type": "code",
   "execution_count": 7,
   "metadata": {},
   "outputs": [
    {
     "data": {
      "text/plain": [
       "' '"
      ]
     },
     "execution_count": 7,
     "metadata": {},
     "output_type": "execute_result"
    }
   ],
   "source": [
    "#more about strings \n",
    "\n",
    "my_string = \"I'm a string!\"\n",
    "\n",
    "#når man beder om 3 er det et mellemrum\n",
    "\n",
    "my_string[3]"
   ]
  },
  {
   "cell_type": "code",
   "execution_count": 8,
   "metadata": {},
   "outputs": [
    {
     "data": {
      "text/plain": [
       "\"'m\""
      ]
     },
     "execution_count": 8,
     "metadata": {},
     "output_type": "execute_result"
    }
   ],
   "source": [
    "my_string[1:3]"
   ]
  },
  {
   "cell_type": "code",
   "execution_count": 9,
   "metadata": {},
   "outputs": [
    {
     "data": {
      "text/plain": [
       "['https:', '', 'realpython.com', 'python-lists-tuples', '']"
      ]
     },
     "execution_count": 9,
     "metadata": {},
     "output_type": "execute_result"
    }
   ],
   "source": [
    "#Lots of strings methods: join, strip, partition, and so on \n",
    "\n",
    "#how do we retrieve different pieces of this string? \n",
    "#En måde at gøre det på er at splitte den \n",
    "\n",
    "my_url = \"https://realpython.com/python-lists-tuples/\" \n",
    "my_url.split(\"/\")"
   ]
  },
  {
   "cell_type": "code",
   "execution_count": 10,
   "metadata": {},
   "outputs": [],
   "source": [
    "#Tuples\n",
    "\n",
    "#A tuples is kind of like a list, but you can change a list, but you can't change a tuple. \n",
    "#so if you want to change something you have to make a new tuple \n",
    "#you can have tuples within lists \n",
    "#list = [], tuples = () \n",
    "#så tuple: my_tuple = ('Samantha', 'Anthropology', '16.0.05')\n",
    "#og tuple i liste: "
   ]
  },
  {
   "cell_type": "code",
   "execution_count": 23,
   "metadata": {},
   "outputs": [
    {
     "data": {
      "text/plain": [
       "'Unknown'"
      ]
     },
     "execution_count": 23,
     "metadata": {},
     "output_type": "execute_result"
    }
   ],
   "source": [
    "instructors = [('Samantha', 'Anthropology', '16.0.05'),\n",
    "               ('Friedo', 'Sociology', '1.2.7'),\n",
    "               ('Ulf', 'Physics', 'Unknown')]\n",
    "instructors[2][2]"
   ]
  },
  {
   "cell_type": "code",
   "execution_count": 13,
   "metadata": {},
   "outputs": [
    {
     "data": {
      "text/plain": [
       "'Sociology'"
      ]
     },
     "execution_count": 13,
     "metadata": {},
     "output_type": "execute_result"
    }
   ],
   "source": [
    "#En anden type container: Dictionaries\n",
    "\n",
    "my_dictionary = {'Samantha': 'Anthropology',\n",
    "                 'Friedo': 'Sociology',\n",
    "                 'Ulf': 'Physics'}\n",
    "\n",
    "my_dictionary ['Friedo']"
   ]
  },
  {
   "cell_type": "code",
   "execution_count": 22,
   "metadata": {},
   "outputs": [
    {
     "name": "stdout",
     "output_type": "stream",
     "text": [
      "[('Samantha', 103), ('Friedo', 78), ('Ulf', 85)]\n",
      "103\n"
     ]
    }
   ],
   "source": [
    "#You can make dictionaries out of lists \n",
    "\n",
    "keys = ['Samantha', 'Friedo', 'Ulf']\n",
    "ages = [103, 78, 85]\n",
    "key_values = list(zip(keys, ages))\n",
    "print(key_values)\n",
    "\n",
    "#The output here is a list of tuples. Altså de runde parenteser er tuples indeni i listen som er de firkantede \n",
    "\n",
    "my_dictionary2 = dict(key_values)\n",
    "print (my_dictionary2 ['Samantha'])"
   ]
  },
  {
   "cell_type": "code",
   "execution_count": null,
   "metadata": {},
   "outputs": [],
   "source": [
    "#Se summary slide for update på hvilke tegn der hører til hvilken type af ting "
   ]
  },
  {
   "cell_type": "code",
   "execution_count": null,
   "metadata": {},
   "outputs": [],
   "source": [
    "A = list(range(5))\n",
    "print (A)\n",
    "B = list(range(3,9))\n",
    "C = [A,B]\n",
    "print(C)"
   ]
  }
 ],
 "metadata": {
  "kernelspec": {
   "display_name": "Python 3",
   "language": "python",
   "name": "python3"
  },
  "language_info": {
   "codemirror_mode": {
    "name": "ipython",
    "version": 3
   },
   "file_extension": ".py",
   "mimetype": "text/x-python",
   "name": "python",
   "nbconvert_exporter": "python",
   "pygments_lexer": "ipython3",
   "version": "3.7.4"
  }
 },
 "nbformat": 4,
 "nbformat_minor": 2
}
