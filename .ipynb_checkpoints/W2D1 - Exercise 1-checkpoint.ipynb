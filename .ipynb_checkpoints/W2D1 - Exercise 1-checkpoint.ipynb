{
 "cells": [
  {
   "cell_type": "markdown",
   "metadata": {},
   "source": [
    "# Exercise 1: Basic Python 1\n",
    "Modified from exercises provided with Programming with Python for Social Science by Phillip Brooker and from Social Data Science 2019 by Andreas Bjerre-Nielson\n",
    "\n",
    "## 1.1 DATA TYPES\n",
    "**QUESTION 1.1.1**"
   ]
  },
  {
   "cell_type": "code",
   "execution_count": null,
   "metadata": {},
   "outputs": [],
   "source": [
    "#an integer is a \"whole number\" (i.e. one with no decimal point)\n",
    "my_integer = 14\n",
    "\n",
    "#a float is a numerical value with a decimal point\n",
    "my_float = 11.1\n",
    "\n",
    "#a string is text\n",
    "my_string = \"This is my string.\"\n"
   ]
  },
  {
   "cell_type": "markdown",
   "metadata": {},
   "source": [
    "What type of variables do you think the following five are? "
   ]
  },
  {
   "cell_type": "code",
   "execution_count": 12,
   "metadata": {},
   "outputs": [],
   "source": [
    "var1 = \"0.1\"\n",
    "\n",
    "var2 = 5 - 9\n",
    "\n",
    "var3 = 10 + 10.1\n",
    "\n",
    "var4 = \"10 + 10.1\"\n",
    "\n",
    "var5 = 10.1 - 0.1"
   ]
  },
  {
   "cell_type": "code",
   "execution_count": null,
   "metadata": {},
   "outputs": [],
   "source": [
    "#Answer to Question 1.1.1\n",
    "#var1 = string\n",
    "#var2 = int\n",
    "#var3 = float\n",
    "#var4 = string\n",
    "#var5 = float "
   ]
  },
  {
   "cell_type": "code",
   "execution_count": 17,
   "metadata": {},
   "outputs": [
    {
     "data": {
      "text/plain": [
       "True"
      ]
     },
     "execution_count": 17,
     "metadata": {},
     "output_type": "execute_result"
    }
   ],
   "source": [
    "#tester om det er rigtigt\n",
    "\n",
    "isinstance(var1, str)"
   ]
  },
  {
   "cell_type": "code",
   "execution_count": 19,
   "metadata": {},
   "outputs": [
    {
     "data": {
      "text/plain": [
       "str"
      ]
     },
     "execution_count": 19,
     "metadata": {},
     "output_type": "execute_result"
    }
   ],
   "source": [
    "#kommando for hvilken type variabel det er \n",
    "\n",
    "type(var1)"
   ]
  },
  {
   "cell_type": "markdown",
   "metadata": {},
   "source": [
    "## 1.2 Basic Operations"
   ]
  },
  {
   "cell_type": "markdown",
   "metadata": {},
   "source": [
    "**Question 1.2.1**: Variables can be reassigned and overwritten."
   ]
  },
  {
   "cell_type": "code",
   "execution_count": 15,
   "metadata": {},
   "outputs": [
    {
     "data": {
      "text/plain": [
       "30"
      ]
     },
     "execution_count": 15,
     "metadata": {},
     "output_type": "execute_result"
    }
   ],
   "source": [
    "original_var = 20\n",
    "new_var = original_var + 10\n",
    "\n",
    "original_var2 = 5\n",
    "original_var2 = original_var2 + 5\n",
    "\n",
    "original_var + 10"
   ]
  },
  {
   "cell_type": "code",
   "execution_count": 18,
   "metadata": {},
   "outputs": [
    {
     "data": {
      "text/plain": [
       "15"
      ]
     },
     "execution_count": 18,
     "metadata": {},
     "output_type": "execute_result"
    }
   ],
   "source": [
    "original_var2 + 5\n",
    "#den bliver pludselig 15 fordi variabelnavnet deroppe ikke er ændret. \n",
    "#altså, når der står original_var2 bliver de 5 lagt til i cellen ovenover. Derfor giver det 15 "
   ]
  },
  {
   "cell_type": "markdown",
   "metadata": {},
   "source": [
    "Can you guess the values for new_var and original_var2?\n"
   ]
  },
  {
   "cell_type": "code",
   "execution_count": 4,
   "metadata": {},
   "outputs": [],
   "source": [
    "#Answer to Question 1.2.1\n",
    "#new_var = 30 \n",
    "#original_var2 = 10 \n"
   ]
  },
  {
   "cell_type": "markdown",
   "metadata": {},
   "source": [
    "**Question 1.2.2**: Can you guess what string1 will contain?"
   ]
  },
  {
   "cell_type": "code",
   "execution_count": 22,
   "metadata": {},
   "outputs": [],
   "source": [
    "string1 = \"This is the first part of the string.\"\n",
    "string1 = string1 + \" This is the second part of the string.\""
   ]
  },
  {
   "cell_type": "code",
   "execution_count": 26,
   "metadata": {},
   "outputs": [
    {
     "name": "stdout",
     "output_type": "stream",
     "text": [
      "This is the first part of the string. This is the second part of the string.\n"
     ]
    }
   ],
   "source": [
    "#Answer to Question 1.2.2\n",
    "#This is the first part of the string. This is the second part of the string.\n",
    "\n",
    "string1 = \"This is the first part of the string.\"\n",
    "string1 = string1 + \" This is the second part of the string.\"\n",
    "print(string1)\n"
   ]
  },
  {
   "cell_type": "markdown",
   "metadata": {},
   "source": [
    "**Question 1.2.3**: Try adding these two variables together, and explain what happens."
   ]
  },
  {
   "cell_type": "code",
   "execution_count": null,
   "metadata": {},
   "outputs": [],
   "source": [
    "first_bit = 14\n",
    "second_bit = \"14\"\n"
   ]
  },
  {
   "cell_type": "code",
   "execution_count": 28,
   "metadata": {},
   "outputs": [
    {
     "ename": "TypeError",
     "evalue": "unsupported operand type(s) for +: 'int' and 'str'",
     "output_type": "error",
     "traceback": [
      "\u001b[1;31m---------------------------------------------------------------------------\u001b[0m",
      "\u001b[1;31mTypeError\u001b[0m                                 Traceback (most recent call last)",
      "\u001b[1;32m<ipython-input-28-c4e51b8c70c7>\u001b[0m in \u001b[0;36m<module>\u001b[1;34m\u001b[0m\n\u001b[0;32m      4\u001b[0m \u001b[0mfirst_bit\u001b[0m \u001b[1;33m=\u001b[0m \u001b[1;36m14\u001b[0m\u001b[1;33m\u001b[0m\u001b[1;33m\u001b[0m\u001b[0m\n\u001b[0;32m      5\u001b[0m \u001b[0msecond_bit\u001b[0m \u001b[1;33m=\u001b[0m \u001b[1;34m\"14\"\u001b[0m\u001b[1;33m\u001b[0m\u001b[1;33m\u001b[0m\u001b[0m\n\u001b[1;32m----> 6\u001b[1;33m \u001b[0mfirst_bit\u001b[0m \u001b[1;33m+\u001b[0m \u001b[0msecond_bit\u001b[0m\u001b[1;33m\u001b[0m\u001b[1;33m\u001b[0m\u001b[0m\n\u001b[0m",
      "\u001b[1;31mTypeError\u001b[0m: unsupported operand type(s) for +: 'int' and 'str'"
     ]
    }
   ],
   "source": [
    "# Answer to Question 1.2.3\n",
    "#It shouldn't be possible to combine integer and string \n",
    "\n",
    "first_bit = 14\n",
    "second_bit = \"14\"\n",
    "first_bit + second_bit \n"
   ]
  },
  {
   "cell_type": "markdown",
   "metadata": {},
   "source": [
    "**Question 1.2.4**\n",
    "\n",
    "We can also convert variable types to different variable types, as follows:\n",
    "\n",
    "To 'stringify' something, we can use str(VARIABLE). Below, I'll declare a variable which is an integer, then I'll use str(VARIABLE) to write the 'stringified' version to a new variable."
   ]
  },
  {
   "cell_type": "code",
   "execution_count": null,
   "metadata": {},
   "outputs": [],
   "source": [
    "my_integer_variable = 30\n",
    "my_stringified_variable = str(my_integer_variable)"
   ]
  },
  {
   "cell_type": "markdown",
   "metadata": {},
   "source": [
    "To 'integerify' something, we can use int(VARIABLE). Below, I'll declare a\n",
    "variable which is a number written out as a string, then I'll use\n",
    "int(VARIABLE) to write the 'integerified' version to a new variable."
   ]
  },
  {
   "cell_type": "code",
   "execution_count": null,
   "metadata": {},
   "outputs": [],
   "source": [
    "my_string_variable = \"30\"\n",
    "my_integerified_variable = int(my_string_variable)"
   ]
  },
  {
   "cell_type": "markdown",
   "metadata": {},
   "source": [
    "To 'floatify' an integer, we can use float(VARIABLE). Below, declare an\n",
    "integer variable, then use float(VARIABLE) to write the 'floatified'\n",
    "version to a new variable: "
   ]
  },
  {
   "cell_type": "code",
   "execution_count": 29,
   "metadata": {},
   "outputs": [
    {
     "name": "stdout",
     "output_type": "stream",
     "text": [
      "20.0\n"
     ]
    }
   ],
   "source": [
    "# Answer to Question 1.2.4\n",
    "\n",
    "my_integer_variable = 20 \n",
    "my_floatified_variable = float(my_integer_variable)\n",
    "print(my_floatified_variable)"
   ]
  },
  {
   "cell_type": "code",
   "execution_count": 30,
   "metadata": {},
   "outputs": [
    {
     "data": {
      "text/plain": [
       "float"
      ]
     },
     "execution_count": 30,
     "metadata": {},
     "output_type": "execute_result"
    }
   ],
   "source": [
    "type(my_floatified_variable)"
   ]
  },
  {
   "cell_type": "markdown",
   "metadata": {},
   "source": [
    "**Question 1.2.5**: Division in Python has two ways of usage. What is the output of `5/2`?  What is the output of `5//2`? What is the fundamental data type for each of the two operations? Explain your results."
   ]
  },
  {
   "cell_type": "code",
   "execution_count": 31,
   "metadata": {},
   "outputs": [
    {
     "data": {
      "text/plain": [
       "2.5"
      ]
     },
     "execution_count": 31,
     "metadata": {},
     "output_type": "execute_result"
    }
   ],
   "source": [
    "# Answer to Question 1.2.5\n",
    "5/2 "
   ]
  },
  {
   "cell_type": "code",
   "execution_count": 32,
   "metadata": {},
   "outputs": [
    {
     "data": {
      "text/plain": [
       "2"
      ]
     },
     "execution_count": 32,
     "metadata": {},
     "output_type": "execute_result"
    }
   ],
   "source": [
    "5//2 "
   ]
  },
  {
   "cell_type": "code",
   "execution_count": null,
   "metadata": {},
   "outputs": [],
   "source": [
    "#én / giver float-resultat og to // giver int-resultat (husk, den altid runder ned)"
   ]
  },
  {
   "cell_type": "markdown",
   "metadata": {},
   "source": [
    "**Question 1.2.6**: What is the output of `5%2` and `5**2`? Explain your answers."
   ]
  },
  {
   "cell_type": "code",
   "execution_count": 33,
   "metadata": {},
   "outputs": [
    {
     "data": {
      "text/plain": [
       "1"
      ]
     },
     "execution_count": 33,
     "metadata": {},
     "output_type": "execute_result"
    }
   ],
   "source": [
    "# Answer to Question 1.2.6\n",
    "\n",
    "5%2 \n",
    "\n",
    "#Den viser resten,  når man dividerer 5 med 2 \n"
   ]
  },
  {
   "cell_type": "code",
   "execution_count": 34,
   "metadata": {},
   "outputs": [
    {
     "data": {
      "text/plain": [
       "25"
      ]
     },
     "execution_count": 34,
     "metadata": {},
     "output_type": "execute_result"
    }
   ],
   "source": [
    "5**2 \n",
    "\n",
    "#den siger 5^2 "
   ]
  },
  {
   "cell_type": "markdown",
   "metadata": {},
   "source": [
    "**Question 1.2.7**: Use expressions <, >, ==, != to compare 4 to 6 (e.g. run 4<6). What are the input data types? What are the output data types?"
   ]
  },
  {
   "cell_type": "code",
   "execution_count": 37,
   "metadata": {},
   "outputs": [
    {
     "data": {
      "text/plain": [
       "False"
      ]
     },
     "execution_count": 37,
     "metadata": {},
     "output_type": "execute_result"
    }
   ],
   "source": [
    "# Answer to Question 1.2.7\n",
    "\n",
    "#Input er int og output er bools \n",
    "\n",
    "4<6 "
   ]
  },
  {
   "cell_type": "code",
   "execution_count": 38,
   "metadata": {},
   "outputs": [
    {
     "data": {
      "text/plain": [
       "True"
      ]
     },
     "execution_count": 38,
     "metadata": {},
     "output_type": "execute_result"
    }
   ],
   "source": [
    "4<6"
   ]
  },
  {
   "cell_type": "code",
   "execution_count": 39,
   "metadata": {},
   "outputs": [
    {
     "data": {
      "text/plain": [
       "False"
      ]
     },
     "execution_count": 39,
     "metadata": {},
     "output_type": "execute_result"
    }
   ],
   "source": [
    "4 == 6"
   ]
  },
  {
   "cell_type": "code",
   "execution_count": 40,
   "metadata": {},
   "outputs": [
    {
     "data": {
      "text/plain": [
       "True"
      ]
     },
     "execution_count": 40,
     "metadata": {},
     "output_type": "execute_result"
    }
   ],
   "source": [
    "4 != 6"
   ]
  },
  {
   "cell_type": "markdown",
   "metadata": {},
   "source": [
    "## 1.3 String Operations"
   ]
  },
  {
   "cell_type": "markdown",
   "metadata": {},
   "source": [
    "Strings have multiple operations and functions associated. In this exercise we investigate a few of these. \n",
    "\n",
    "**Question 1.3.1**: Create variables s1='Chameleon' and s2='ham'. Check whether the string s2 is a substring of s1. \n",
    "\n",
    "*Hint: One string operation is to check whether a string S contains a substring T, this can be done with the in \n",
    "operator: S in T.*"
   ]
  },
  {
   "cell_type": "code",
   "execution_count": 41,
   "metadata": {},
   "outputs": [
    {
     "data": {
      "text/plain": [
       "True"
      ]
     },
     "execution_count": 41,
     "metadata": {},
     "output_type": "execute_result"
    }
   ],
   "source": [
    "# Answer to Question 1.3.1 \n",
    "#creater de to variable \n",
    "\n",
    "s1='Chameleon'\n",
    "s2='ham'\n",
    "\n",
    "#tjekker om s2 er en del af s1 \n",
    "\n",
    "s2 in s1 \n",
    "\n",
    "#det er det. Wuhuu "
   ]
  },
  {
   "cell_type": "markdown",
   "metadata": {},
   "source": [
    "**Question 1.3.2**: Make a variable s3 that is the same as s1 but all upper case, then check again whether s2 is a substring of of s3. Explain your answer. \n",
    "\n",
    "*Hint: Remember that strings have methods like upper(), lower(), and capitalize()* "
   ]
  },
  {
   "cell_type": "code",
   "execution_count": 42,
   "metadata": {},
   "outputs": [
    {
     "data": {
      "text/plain": [
       "False"
      ]
     },
     "execution_count": 42,
     "metadata": {},
     "output_type": "execute_result"
    }
   ],
   "source": [
    "# Answer to Question 1.3.2\n",
    "\n",
    "s3='CHAMELEON'\n",
    "\n",
    "s2 in s3\n",
    "\n",
    "#laver en upper-udgave af s1 "
   ]
  },
  {
   "cell_type": "code",
   "execution_count": 45,
   "metadata": {},
   "outputs": [
    {
     "name": "stdout",
     "output_type": "stream",
     "text": [
      "CHAMELEON\n"
     ]
    }
   ],
   "source": [
    "s3=s1.upper()\n",
    "print(s3)\n",
    "\n",
    "#laver en upper udgave af s1 (hvis man nu forestillede mig, jeg ikke vidste hvad s1 var)"
   ]
  },
  {
   "cell_type": "code",
   "execution_count": 46,
   "metadata": {},
   "outputs": [
    {
     "data": {
      "text/plain": [
       "False"
      ]
     },
     "execution_count": 46,
     "metadata": {},
     "output_type": "execute_result"
    }
   ],
   "source": [
    "s2 in s3\n",
    "\n",
    "#tjekker om s2 er i s3, og det er det ikke "
   ]
  },
  {
   "cell_type": "markdown",
   "metadata": {},
   "source": [
    "## 1.4 Control logic (if statements)\n",
    "\n",
    "**Question 1.4.1**: Imagine that we have a car that can fit 5 passengers, and we want to know, if the car can fit more passengers. Using 'if' and 'else', make a piece of code that prints out \"The car is full\" if passengers (taken as input) is 5 or more, and \"The car is not full yet\" if passengers are less than 5.\n",
    "\n",
    "Note: Multiple conditions can be inserted with elif statement(s):"
   ]
  },
  {
   "cell_type": "code",
   "execution_count": 50,
   "metadata": {},
   "outputs": [
    {
     "name": "stdout",
     "output_type": "stream",
     "text": [
      "The car is not full yet\n"
     ]
    }
   ],
   "source": [
    "#Read how many passengers are in the car\n",
    "passengers = 3\n",
    "\n",
    "#Answer to Question 1.4.1\n",
    "\n",
    "if passengers >=5: \n",
    "    print(\"The car is full\")\n",
    "if passengers <5: \n",
    "    print(\"The car is not full yet\") \n"
   ]
  },
  {
   "cell_type": "code",
   "execution_count": 52,
   "metadata": {},
   "outputs": [
    {
     "name": "stdout",
     "output_type": "stream",
     "text": [
      "The car is full\n"
     ]
    }
   ],
   "source": [
    "#en anden (og bedre) måde at gøre det på \n",
    "\n",
    "passengers = 6 \n",
    "\n",
    "if passengers >=5: \n",
    "    print(\"The car is full\")\n",
    "else: \n",
    "    print(\"The car is not full yet\")"
   ]
  },
  {
   "cell_type": "markdown",
   "metadata": {},
   "source": [
    "**Question 1.4.2**: Create a program which produces statements about numbers that you give it, with the following conditions:\n",
    "- if the number is over 100 print \"Phew, that's a big number.\"\n",
    "- if the number is even, print \"This one is even.\"\n",
    "- if the number is even and over 100 print \"Stop. I can't even.\"\n",
    "- if the number doesn't satisfy any of these conditions, print the number."
   ]
  },
  {
   "cell_type": "code",
   "execution_count": 68,
   "metadata": {},
   "outputs": [
    {
     "name": "stdout",
     "output_type": "stream",
     "text": [
      "Stop, I can't even\n"
     ]
    }
   ],
   "source": [
    "#Answer to Question 1.4.2\n",
    "\n",
    "#Hvis tallet både er lige og over 100 reagerer den kun på det første\n",
    "#Burde man ikke skulle bruge noget and/or/if et eller andet sted for at få det til at passe? \n",
    "#Jeg ved ikke, hvordan man får del 3 med \n",
    "\n",
    "number = 104\n",
    "\n",
    "if number > 100: \n",
    "    print(\"Phew, that's a big number\")\n",
    "elif number % 2 == 0: \n",
    "    print(\"This one is even\") \n",
    "else: \n",
    "    print(number)\n",
    "\n",
    "#Check the program with a few values to see if it gives the results you expect."
   ]
  },
  {
   "cell_type": "code",
   "execution_count": 69,
   "metadata": {},
   "outputs": [
    {
     "name": "stdout",
     "output_type": "stream",
     "text": [
      "Stop, I can't even\n"
     ]
    }
   ],
   "source": [
    "#Den fungerer fint alene \n",
    "\n",
    "number = 104\n",
    "\n",
    "if number > 100 and number % 2 == 0: \n",
    "    print(\"Stop, I can't even\")\n",
    "else: \n",
    "    print(number)"
   ]
  },
  {
   "cell_type": "markdown",
   "metadata": {},
   "source": [
    "**Question 1.4.3**: Choose an everyday activity (like making tea). Write a script workflow for that activity."
   ]
  },
  {
   "cell_type": "markdown",
   "metadata": {},
   "source": [
    "*Answer to Question 1.4.3. here. \n",
    "Note that this cell is in Markdown mode rather than Code mode, so you can write your answer as text.* \n",
    "\n",
    "#Eat chocolate \n",
    "\n",
    "want_chocolate = true \n",
    "have_chocolate = true \n",
    "\n",
    "if not want_chocolate and have_chocolate:\n",
    "    print(\"Live without chocolate\")\n",
    "elif want_chocolate and not have_chocolate\n",
    "    print(\"Go buy the damn chocolate!\") \n",
    "elif want_chocolate and have_chocolate \n",
    "    print(\"Eat chocolate\") "
   ]
  },
  {
   "cell_type": "code",
   "execution_count": 80,
   "metadata": {},
   "outputs": [
    {
     "name": "stdout",
     "output_type": "stream",
     "text": [
      "Eat chocolate and be happy\n"
     ]
    }
   ],
   "source": [
    "want_chocolate = True \n",
    "have_chocolate = True \n",
    "\n",
    "if not want_chocolate and not have_chocolate:\n",
    "    print(\"Live without chocolate\") \n",
    "elif not want_chocolate and have_chocolate: \n",
    "    print(\"Go make someone happy with chocolate\")\n",
    "elif not have_chocolate and want_chocolate: \n",
    "    print(\"Go buy the damn chocolate!\")\n",
    "elif want_chocolate and have_chocolate: \n",
    "    print(\"Eat chocolate and be happy\") "
   ]
  },
  {
   "cell_type": "markdown",
   "metadata": {},
   "source": [
    "## 1.5 Reflection\n",
    "**Question 1.5.1**: Write a brief paragraph reflecting on your experience learning basic programming operations and logic structures. What did you struggle with? What did you enjoy? What surprised you?\n",
    "    *Note: We will ask you in the assignments to submit a summary of your reflections*"
   ]
  },
  {
   "cell_type": "markdown",
   "metadata": {},
   "source": [
    "*Answer to Question 1.5.1* \n",
    "\n",
    "So far learning basic programming has been going alright. I find it difficult to understand the relation between github, jupyter, python etc., but I'm sure that will all make sense once we've used it a little more. The logic of the code makes sense to me, but I still don't remember the different commands well enough to make things happen, and I spend a lot of time looking for mistakes. What surprises me is how happy it makes me when it actually does what I want it to.  \n"
   ]
  }
 ],
 "metadata": {
  "kernelspec": {
   "display_name": "Python 3",
   "language": "python",
   "name": "python3"
  },
  "language_info": {
   "codemirror_mode": {
    "name": "ipython",
    "version": 3
   },
   "file_extension": ".py",
   "mimetype": "text/x-python",
   "name": "python",
   "nbconvert_exporter": "python",
   "pygments_lexer": "ipython3",
   "version": "3.7.4"
  }
 },
 "nbformat": 4,
 "nbformat_minor": 2
}
